{
  "nbformat": 4,
  "nbformat_minor": 0,
  "metadata": {
    "colab": {
      "provenance": [],
      "include_colab_link": true
    },
    "kernelspec": {
      "name": "python2",
      "display_name": "Python 2"
    },
    "gpuClass": "standard"
  },
  "cells": [
    {
      "cell_type": "markdown",
      "metadata": {
        "id": "view-in-github",
        "colab_type": "text"
      },
      "source": [
        "<a href=\"https://colab.research.google.com/github/EliTirman/Pra3024_2023/blob/main/Updated_Week2_LHCb_Data_Analysis_NoROOT_2023.ipynb\" target=\"_parent\"><img src=\"https://colab.research.google.com/assets/colab-badge.svg\" alt=\"Open In Colab\"/></a>"
      ]
    },
    {
      "cell_type": "code",
      "metadata": {
        "id": "vFclIR72w0mU",
        "collapsed": true,
        "outputId": "48484925-46a2-4ae7-dd24-248cf12b4ce3",
        "colab": {
          "base_uri": "https://localhost:8080/"
        }
      },
      "source": [
        "!pip install uproot awkward lz4 xxhash"
      ],
      "execution_count": 2,
      "outputs": [
        {
          "output_type": "stream",
          "name": "stdout",
          "text": [
            "Looking in indexes: https://pypi.org/simple, https://us-python.pkg.dev/colab-wheels/public/simple/\n",
            "Collecting uproot\n",
            "  Downloading uproot-5.0.3-py3-none-any.whl (328 kB)\n",
            "\u001b[2K     \u001b[90m━━━━━━━━━━━━━━━━━━━━━━━━━━━━━━━━━━━━━━━\u001b[0m \u001b[32m328.4/328.4 KB\u001b[0m \u001b[31m4.1 MB/s\u001b[0m eta \u001b[36m0:00:00\u001b[0m\n",
            "\u001b[?25hCollecting awkward\n",
            "  Downloading awkward-2.0.8-py3-none-any.whl (583 kB)\n",
            "\u001b[2K     \u001b[90m━━━━━━━━━━━━━━━━━━━━━━━━━━━━━━━━━━━━━━━\u001b[0m \u001b[32m583.2/583.2 KB\u001b[0m \u001b[31m4.9 MB/s\u001b[0m eta \u001b[36m0:00:00\u001b[0m\n",
            "\u001b[?25hCollecting lz4\n",
            "  Downloading lz4-4.3.2-cp38-cp38-manylinux_2_17_x86_64.manylinux2014_x86_64.whl (1.3 MB)\n",
            "\u001b[2K     \u001b[90m━━━━━━━━━━━━━━━━━━━━━━━━━━━━━━━━━━━━━━━━\u001b[0m \u001b[32m1.3/1.3 MB\u001b[0m \u001b[31m8.7 MB/s\u001b[0m eta \u001b[36m0:00:00\u001b[0m\n",
            "\u001b[?25hCollecting xxhash\n",
            "  Downloading xxhash-3.2.0-cp38-cp38-manylinux_2_17_x86_64.manylinux2014_x86_64.whl (213 kB)\n",
            "\u001b[2K     \u001b[90m━━━━━━━━━━━━━━━━━━━━━━━━━━━━━━━━━━━━━━━\u001b[0m \u001b[32m213.0/213.0 KB\u001b[0m \u001b[31m7.8 MB/s\u001b[0m eta \u001b[36m0:00:00\u001b[0m\n",
            "\u001b[?25hRequirement already satisfied: packaging in /usr/local/lib/python3.8/dist-packages (from uproot) (23.0)\n",
            "Requirement already satisfied: numpy in /usr/local/lib/python3.8/dist-packages (from uproot) (1.22.4)\n",
            "Requirement already satisfied: importlib-resources in /usr/local/lib/python3.8/dist-packages (from awkward) (5.12.0)\n",
            "Collecting awkward-cpp==9\n",
            "  Downloading awkward_cpp-9-cp38-cp38-manylinux_2_17_x86_64.manylinux2014_x86_64.whl (1.1 MB)\n",
            "\u001b[2K     \u001b[90m━━━━━━━━━━━━━━━━━━━━━━━━━━━━━━━━━━━━━━━━\u001b[0m \u001b[32m1.1/1.1 MB\u001b[0m \u001b[31m28.9 MB/s\u001b[0m eta \u001b[36m0:00:00\u001b[0m\n",
            "\u001b[?25hRequirement already satisfied: typing-extensions>=4.1.0 in /usr/local/lib/python3.8/dist-packages (from awkward) (4.5.0)\n",
            "Requirement already satisfied: zipp>=3.1.0 in /usr/local/lib/python3.8/dist-packages (from importlib-resources->awkward) (3.14.0)\n",
            "Installing collected packages: xxhash, lz4, awkward-cpp, awkward, uproot\n",
            "Successfully installed awkward-2.0.8 awkward-cpp-9 lz4-4.3.2 uproot-5.0.3 xxhash-3.2.0\n"
          ]
        }
      ]
    },
    {
      "cell_type": "code",
      "source": [
        "from google.colab import drive\n",
        "drive.mount('/content/drive')"
      ],
      "metadata": {
        "colab": {
          "base_uri": "https://localhost:8080/"
        },
        "id": "HdJ_kY4v2SM0",
        "outputId": "bd811496-f633-4a5e-a531-8e2291e0195e"
      },
      "execution_count": 3,
      "outputs": [
        {
          "output_type": "stream",
          "name": "stdout",
          "text": [
            "Mounted at /content/drive\n"
          ]
        }
      ]
    },
    {
      "cell_type": "code",
      "metadata": {
        "id": "Co476pbmBvBB",
        "colab": {
          "base_uri": "https://localhost:8080/"
        },
        "outputId": "afdc684a-4c77-44e0-d65b-25dcc93e50b6"
      },
      "source": [
        "import uproot\n",
        "f = uproot.open(\"/content/drive/MyDrive/B2HHH_MagnetDown.root:DecayTree\")\n",
        "f.keys()\n",
        "help(uproot)"
      ],
      "execution_count": 5,
      "outputs": [
        {
          "output_type": "stream",
          "name": "stdout",
          "text": [
            "Help on package uproot:\n",
            "\n",
            "NAME\n",
            "    uproot - Uproot: ROOT I/O in pure Python and NumPy.\n",
            "\n",
            "DESCRIPTION\n",
            "    Nearly all of the functions needed for general use are imported here, but the\n",
            "    documentation gives fully qualified names. For example, the most frequently\n",
            "    used function in Uproot is\n",
            "    \n",
            "    .. code-block:: python\n",
            "    \n",
            "        uproot.open(\"path/to/filename.root\")\n",
            "    \n",
            "    but we refer to it in the documentation as :doc:`uproot.reading.open`.\n",
            "    \n",
            "    Typical entry points for file-reading are\n",
            "    \n",
            "    * :doc:`uproot.reading.open`\n",
            "    * :doc:`uproot.behaviors.TBranch.iterate`\n",
            "    * :doc:`uproot.behaviors.TBranch.concatenate`\n",
            "    * :doc:`uproot._dask.dask`\n",
            "    \n",
            "    though they would usually be accessed as ``uproot.iterate``,\n",
            "    ``uproot.concatenate``, and ``uproot.dask``.\n",
            "    \n",
            "    The most useful classes are\n",
            "    \n",
            "    * :doc:`uproot.behaviors.TBranch.HasBranches` (``TTree`` or ``TBranch``)\n",
            "    * :doc:`uproot.behaviors.TBranch.TBranch`\n",
            "    * :doc:`uproot.behaviors.TH1`\n",
            "    * :doc:`uproot.behaviors.TH2`\n",
            "    * :doc:`uproot.behaviors.TProfile`\n",
            "    \n",
            "    though they would usually be accessed through instances that have been read\n",
            "    from files.\n",
            "    \n",
            "    The submodules of Uproot are:\n",
            "    \n",
            "    * :doc:`uproot.reading`: entry-point for reading files, as well as classes\n",
            "      for the three basic types that can't be modeled: ``TFile``, ``TDirectory``,\n",
            "      and ``TKey``.\n",
            "    * :doc:`uproot.behaviors`: methods and properties to mix into instantiated\n",
            "      models, for a high-level user interface.\n",
            "    * :doc:`uproot.model`: utilities for modeling C++ objects as Python objects.\n",
            "    * :doc:`uproot.streamers`: models for ``TStreamerInfo`` and its elements\n",
            "      to generate code for new models for classes in ROOT files.\n",
            "    * :doc:`uproot.cache`: defines caches with least-recently used eviction\n",
            "      policies.\n",
            "    * :doc:`uproot.compression`: functions for compressing and decompressing data.\n",
            "    * :doc:`uproot.deserialization`: utility functions for deserialization,\n",
            "      including the generation of new classes.\n",
            "    * :doc:`uproot.source`: the \"physical layer,\" which reads bytes without\n",
            "      interpreting them from various backends, like files, HTTP(S), and XRootD.\n",
            "    * :doc:`uproot.interpretation`: prescriptions for converting ROOT types\n",
            "      into Pythonic arrays.\n",
            "    * :doc:`uproot.containers`: interpretations and models for standard\n",
            "      containers, such as ``std::vector`` and arrays.\n",
            "    * :doc:`uproot.language`: computational backends for expressions in\n",
            "      :ref:`uproot.behaviors.TBranch.HasBranches.arrays`.\n",
            "    * :doc:`uproot.models`: predefined models for classes that are too basic\n",
            "      to rely on ``TStreamerInfo`` or too common to justify reading it.\n",
            "    * ``uproot.const``: integer constants used in ROOT serialization and\n",
            "      deserialization.\n",
            "    * ``uproot.extras``: import functions for the libraries that Uproot can\n",
            "      use, but does not require as dependencies. If a library can't be imported,\n",
            "      these functions provide instructions for installing them.\n",
            "    * ``uproot.version``: for access to the version number.\n",
            "    * ``uproot.dynamic``: initially empty module, in which dynamically\n",
            "      generated classes are defined.\n",
            "    * ``uproot._util``: non-public utilities used by the above.\n",
            "    \n",
            "    isort:skip_file\n",
            "\n",
            "PACKAGE CONTENTS\n",
            "    _awkward_forth\n",
            "    _dask\n",
            "    _util\n",
            "    behavior\n",
            "    behaviors (package)\n",
            "    cache\n",
            "    compression\n",
            "    const\n",
            "    containers\n",
            "    deserialization\n",
            "    dynamic\n",
            "    exceptions\n",
            "    extras\n",
            "    interpretation (package)\n",
            "    language (package)\n",
            "    model\n",
            "    models (package)\n",
            "    pyroot\n",
            "    reading\n",
            "    serialization\n",
            "    sink (package)\n",
            "    source (package)\n",
            "    streamers\n",
            "    version\n",
            "    writing (package)\n",
            "\n",
            "DATA\n",
            "    classes = {'ROOT::Experimental::RNTuple': <class 'uproot.models.RNTupl...\n",
            "    default_library = 'ak'\n",
            "    unknown_classes = {}\n",
            "\n",
            "VERSION\n",
            "    5.0.3\n",
            "\n",
            "FILE\n",
            "    /usr/local/lib/python3.8/dist-packages/uproot/__init__.py\n",
            "\n",
            "\n"
          ]
        }
      ]
    },
    {
      "cell_type": "markdown",
      "metadata": {
        "id": "4e4n4iS3IJZi"
      },
      "source": [
        "#Why are we here?\n",
        "\n",
        "This week is about finding out something about one of the fundemental questions in physics. Why do we have \"stuff\".\n",
        "\n",
        "According to many of our models, and according to many measurements in particle physics, matter and anti-matter appear to be produced in equal quantities.\n",
        "\n",
        "However, when one looks at the Universe in general, we have more matter than anti-matter left - so there need to be some processes where anti-matter and matter are not produced equally. You can find out more about the Matter/Anti-Matter Asymmetry [here](http://press.web.cern.ch/backgrounders/matterantimatter-asymmetry)\n",
        "\n",
        "One place we look for this asymetry is in [charge-partity (CP) violation](https://www.symmetrymagazine.org/article/october-2005/explain-it-in-60-seconds) in particle physics processes. This essentially says that the processes that happen in the anti-particle version of a decay do not **exactly** match to the processes that happen in the particle version of the decay.\n",
        "\n",
        "\n",
        "\n",
        "---\n",
        "\n",
        "\n",
        "\n",
        "At LHCb, we produce both particle of the  B<sup>+</sup> meson and it's antiparticle the B<sup>-</sup> meson.\n",
        "\n",
        "We cannot detect these mesons directly. They decay into other things before we have a chance to measure them properly. So we collect data on the decay products, often called daughter particles. There are 524 [documented](http://pdg.lbl.gov/2014/listings/rpp2014-list-B-plus-minus.pdf) ways that the B<sup>+/-</sup> decays into various combinations. In order to simplify the process, we choose decay combinations that are convenient or have particular properties.\n",
        "\n",
        "In this analysis, we will take the process:-\n",
        "\n",
        "B<sup>+</sup>->K<sup>+</sup> + K<sup>+</sup>  + K<sup>-</sup>\n",
        "\n",
        "or\n",
        "\n",
        "B<sup>-</sup>->K<sup>-</sup> + K<sup>-</sup>  + K<sup>+</sup>\n",
        "\n",
        "\n",
        "To do so, we are given the following data for each event in our system:-\n",
        "\n",
        "![alt text](https://raw.githubusercontent.com/lhcb/opendata-project/80d64a3796e593fc8f9b257e85f32ae2e54f131f/Images/Variables.png)\n",
        "\n",
        "Here, H1 is the detected daughter particle (so a Kaon or a Pion), **not** the B-meson - the mother particle. Normally we would have to do some reconstruction from the decay products (the Daughters) to the Mother to be able to make some conclusions.\n",
        "\n",
        "Let's get started with working with this data:"
      ]
    },
    {
      "cell_type": "markdown",
      "metadata": {
        "id": "LOhfj7kfP-ao"
      },
      "source": [
        "For our analysis, the momentum of each of the daughter particles is split into the three cartesian components. We have combined these into a variable called H1_Ptot"
      ]
    },
    {
      "cell_type": "code",
      "source": [
        "# IMPORTS\n",
        "from uproot.source.futures import TrivialExecutor\n",
        "from uproot.models.TTree import numpy as np\n",
        "from uproot.reading import ReadOnlyDirectory\n",
        "import math\n",
        "import matplotlib.pyplot as plt\n",
        "\n",
        "# (1) Define a list named momenta with all three daughter particles\n",
        "# (2) Create an empty list TotalMomentum\n",
        "# (3) Create a for loop that iterates over the list \"momenta\" in range of its length\n",
        "# (4) The for loop adds the data from \"momenta\" to an array \"momentum\" for all daughters in all 3 directions, so we can malipulate it easier\n",
        "# (5) Then we square the components of momenta for every daughter, take the square root of the sum of the squares, and append the arrays to \"TotalMomentum\"\n",
        "# (5) The loop is repeated until we have 3 data sets contained in \"TotalMomentum\". \n",
        "# (6) Then we plot the histogram using matplotlib and set the variables for it\n",
        "# (7) Set the title of the histogram\n",
        "# (8) Set the x axis label\n",
        "# (9) Set the y axis label\n",
        "# (10) Add the grid\n",
        "# (11) Add the legend\n",
        "# (12) Finally show the histogram\n",
        "\n",
        "momenta = [\"H1\", \"H2\", \"H3\"]  \n",
        "TotMom = [] \n",
        "\n",
        "for i in range(len(momenta)):  \n",
        "    momentum = f.arrays([f\"{momenta[i]}_PX\", f\"{momenta[i]}_PY\", f\"{momenta[i]}_PZ\"]) \n",
        "    TotMom.append(np.sqrt(momentum[f\"{momenta[i]}_PX\"]**2 + momentum[f\"{momenta[i]}_PY\"]**2 + momentum[f\"{momenta[i]}_PZ\"]**2))\n",
        "    plt.hist(TotMom[i], bins=300, range=[0, 60000], histtype = 'step', label=momenta[i], edgecolor=[\"purple\",\"green\",\"blue\"][i])\n",
        "\n",
        "plt.title(\"Total Momentum of each of the daughter particles\")\n",
        "plt.xlabel('Total Momentum (MeV/$c^2$)')\n",
        "plt.ylabel('Events')\n",
        "plt.grid()\n",
        "plt.legend(loc='upper right')\n",
        "\n",
        "plt.show()"
      ],
      "metadata": {
        "colab": {
          "base_uri": "https://localhost:8080/",
          "height": 300
        },
        "id": "CbCmyMGpD5Qo",
        "outputId": "c8bded31-f467-4dd2-a8f5-c7c4a5a4cfa1"
      },
      "execution_count": 24,
      "outputs": [
        {
          "output_type": "display_data",
          "data": {
            "text/plain": [
              "<Figure size 432x288 with 1 Axes>"
            ],
            "image/png": "[encoded data removed]"
          },
          "metadata": {
            "needs_background": "light"
          }
        }
      ]
    },
    {
      "cell_type": "markdown",
      "metadata": {
        "id": "C1lXLMCoR1Gi"
      },
      "source": [
        "Now plot the total momentum for the mother (M_Ptot)"
      ]
    },
    {
      "cell_type": "code",
      "metadata": {
        "id": "6kdbiNpPR1QG",
        "colab": {
          "base_uri": "https://localhost:8080/",
          "height": 300
        },
        "outputId": "0c4fefc4-8976-47e8-879a-f0863a30db14"
      },
      "source": [
        "# (1) Define a list of strings named \"comp\" with names of the components\n",
        "# (2) Define an empty list momentumcomp\n",
        "# (3) Create a for loop that iterates over the list \"comp\" in range of its length \n",
        "# (4) and appends all the momentum components arrays in each direction to the list momentumcomp\n",
        "# (5/6/7) Calculate the sum of components in each direction separately \n",
        "# (8) Calculate the TotalMomentum as a square root of the sum of the squares of momenta in each direction\n",
        "# (9) Then we plot the histogram using matplotlib and set the variables for it\n",
        "# (10) Set the title of the histogram\n",
        "# (11) Set the x axis label\n",
        "# (12) Set the y axis label\n",
        "# (13) Add the grid\n",
        "# (14) Finally show the histogram\n",
        "\n",
        "comp = [ \"PX\", \"PY\", \"PZ\"]\n",
        "momentumcomp = []\n",
        "\n",
        "for j in range(len(comp)):\n",
        "    momentumcomp.append(f.arrays([f\"H1_{comp[j]}\", f\"H2_{comp[j]}\", f\"H3_{comp[j]}\"]))\n",
        "\n",
        "Xcomp = (momentumcomp[0][\"H1_PX\"] + momentumcomp[0][\"H2_PX\"] + momentumcomp[0][\"H3_PX\"])\n",
        "Ycomp = (momentumcomp[1][\"H1_PY\"] + momentumcomp[1][\"H2_PY\"] + momentumcomp[1][\"H3_PY\"])\n",
        "Zcomp = (momentumcomp[2][\"H1_PZ\"] + momentumcomp[2][\"H2_PZ\"] + momentumcomp[2][\"H3_PZ\"])\n",
        "\n",
        "TotalMomentum = np.sqrt(Xcomp**2 + Ycomp**2 + Zcomp**2)\n",
        "\n",
        "plt.hist(TotalMomentum, bins=300, range=[0, 600000], histtype = 'step', edgecolor=\"purple\")\n",
        "\n",
        "plt.title(\"Total Momentum of the Mother\")\n",
        "plt.xlabel('Total Momentum (MeV/$c^2$)')\n",
        "plt.ylabel('Events')\n",
        "plt.grid()\n",
        "plt.show()\n",
        "\n"
      ],
      "execution_count": 8,
      "outputs": [
        {
          "output_type": "display_data",
          "data": {
            "text/plain": [
              "<Figure size 432x288 with 1 Axes>"
            ],
            "image/png": "[encoded data removed]"
          },
          "metadata": {
            "needs_background": "light"
          }
        }
      ]
    },
    {
      "cell_type": "markdown",
      "metadata": {
        "id": "6RhWWqt3a8_e"
      },
      "source": [
        "Having discovered all of the relevant information about our daughter particles, we need to combine the measurements about them into a single mother - which will be our B<sup>+</sup> or our B<sup>-</sup>\n",
        "\n",
        "Having found our momentum and energy, we can use these quantities to find our experimental mass (not the theoretical mass as we have used for the reconstruction).\n",
        "\n",
        "When we calculate this, we will get a distribution of masses. This is due to errors in the measurements made either by the detector, or in the experiment itself. We hope to have a reasonably narrow peak to work with, but, sometimes this is not possible.\n",
        "\n",
        "Additionally there will be other particles in the detector - which means our daughters might have come from two or even three different processes. Events which don't come from the same process will give a higher or lower mass than we are looking for. This is typically called the *background* while events which come from our event of interest are called the *signal*"
      ]
    },
    {
      "cell_type": "code",
      "metadata": {
        "id": "onr7-8CMbbFf",
        "colab": {
          "base_uri": "https://localhost:8080/",
          "height": 300
        },
        "outputId": "6970062b-81bf-4dbc-8a66-cc309fecc0a4"
      },
      "source": [
        "#Now plot a histogram of the range of masses of the B meson.\n",
        "#Does this match what we would expect from theory?\n",
        "\n",
        "# (1) Theoretical mass of a Kaon (source: Google)\n",
        "# (2/3/4) Create Total Energy arrays for each daughter particle and calculate their total energy using theoretical kaon mass\n",
        "# (5) Calculate Total Energy of the mother particle by summing up all daughter energies\n",
        "# (6) Since E^2 = m^2 + p^2, Calculate the Total Mass of the mother by taking a square root of the difference of squares of TotalEnergy and TotalMomentum\n",
        "# (7) Plot the histogram using matplotlib and set the variables for it\n",
        "# (8) Set the title of the histogram\n",
        "# (9) Set the x axis label\n",
        "# (10) Set the y axis label\n",
        "# (11) Add the grid\n",
        "# (13) Finally show the histogram\n",
        "\n",
        "mass = 497.648\n",
        "\n",
        "TotEn1 = np.sqrt(mass**2 + TotMom[0]**2)\n",
        "TotEn2 = np.sqrt(mass**2 + TotMom[1]**2)\n",
        "TotEn3 = np.sqrt(mass**2 + TotMom[2]**2)\n",
        "\n",
        "TotalEnergy = (TotEn1 + TotEn2 + TotEn3)\n",
        "\n",
        "Mass = np.sqrt(TotalEnergy**2 - TotalMomentum**2)\n",
        "\n",
        "plt.hist(Mass, bins=300, range=[4800, 6500], histtype = 'step', edgecolor=\"purple\")\n",
        "plt.title(\"Mass of the mother particle\")\n",
        "plt.xlabel('Mass (MeV/$c^2$)')\n",
        "plt.ylabel('Events')\n",
        "plt.grid()\n",
        "plt.show()\n"
      ],
      "execution_count": 9,
      "outputs": [
        {
          "output_type": "display_data",
          "data": {
            "text/plain": [
              "<Figure size 432x288 with 1 Axes>"
            ],
            "image/png": "[encoded data removed]"
          },
          "metadata": {
            "needs_background": "light"
          }
        }
      ]
    },
    {
      "cell_type": "markdown",
      "metadata": {
        "id": "MWGFKFnXb0RP"
      },
      "source": [
        "We know that some of our particles are the B+ and some are the B- particle. There will also be some particles in our system that are not coming from a genuine B+/- or are a B+/- but are not constructed from Kaons.\n",
        "\n",
        "We have some tools available to help:-\n",
        "\n",
        "  *  During detection, software attributes the probability of a particle being a Kaon or a Pion (in the H1_ProbK or H1_ProbPi variable)\n",
        "  * The detector also knows if the particle was a Muon - since it has detectors specifically for these. So it can attribute a 0 or a 1 to this probability\n",
        "  * The reconstructed vertex has a some kind of quality associated with it (we call this the Vertex χ2 (this is the variable B_VertexChi2). This is the statistical measure that determines how well we found a single point to be the source of all three particles.\n",
        "\n"
      ]
    },
    {
      "cell_type": "markdown",
      "metadata": {
        "id": "fEpnSmH4b9HZ"
      },
      "source": [
        "In order to get a better result, we should select our data to have the properties we desire and make some rules (often called a selection) to cut away data we don't want to include for various reasons. e.g. we know we don't have any muons in our decay - so any time H1/H2/H3 are a muon they should be excluded. The other variables are not so clear - so we can plot them to make a decision."
      ]
    },
    {
      "cell_type": "code",
      "source": [
        "################### Make plots of H1/H2/H3 _ProbK on one plot #################################\n",
        "\n",
        "# (1/2) Create arrays for the values of probability of each particle being Kaon or Pion\n",
        "# (3/4/5) Create a for loop that iterates 3 times, gets the values of probability for each particle being a Kaon, \n",
        "# (3/4/5) stores it in an array \"prob\" and then creates a histogram of the probabilities\n",
        "# (6/7/8/9/10) Setting the histogram parameters\n",
        "\n",
        "probK = [\"H1_ProbK\", \"H2_ProbK\", \"H3_ProbK\"]\n",
        "probPi = [\"H1_ProbPi\", \"H2_ProbPi\", \"H3_ProbPi\"]\n",
        "\n",
        "for i in range(3):\n",
        "  prob = f[probK[i]].array(library=\"np\")\n",
        "  plt.hist(prob, bins=50, range=[0, 1], histtype='step', label=f'H{i+1}', edgecolor=[\"purple\", \"green\", \"blue\"][i])\n",
        "\n",
        "plt.title(\"Probabilities for K\")\n",
        "plt.xlabel('Probability')\n",
        "plt.ylabel('Events')\n",
        "plt.grid()\n",
        "plt.legend(loc='upper right')\n",
        "\n",
        "################### Make plots of H1/H2/H3 _ProbPi on one plot ################################# \n",
        "\n",
        "# Repeat the process but with probabilities of daughters being a Pion:\n",
        "\n",
        "plt.figure()\n",
        "for i in range(3):\n",
        "  prob = f[probPi[i]].array(library=\"np\")\n",
        "  plt.hist(prob, bins=50, range=[0, 1], histtype='step', label=f'H{i+1}', edgecolor=[\"purple\", \"green\", \"blue\"][i])\n",
        "\n",
        "plt.title(\"Probabilities for Pi\")\n",
        "plt.xlabel('Probability')\n",
        "plt.ylabel('Events')\n",
        "plt.grid()\n",
        "plt.legend(loc='upper center')\n",
        "\n",
        "\n",
        "################### For all our particles, make a plot of the B_VertexChi2 #################################\n",
        "\n",
        "# Create an array B_VertexChi2 that stores the values for B_VertexChi2 and plot the data as a histogram:\n",
        "\n",
        "plt.figure() \n",
        "B_VertexChi2 = f[\"B_VertexChi2\"].array(library=\"np\")\n",
        "\n",
        "plt.hist(B_VertexChi2, bins=100, range=[0, 13], histtype = 'step', edgecolor=\"blue\")\n",
        "\n",
        "plt.title(\"B_VertexChi2\")\n",
        "plt.xlabel('BVertexChi2')\n",
        "plt.ylabel('Events')\n",
        "plt.grid()"
      ],
      "metadata": {
        "colab": {
          "base_uri": "https://localhost:8080/",
          "height": 851
        },
        "id": "tX1vAslfbuKD",
        "outputId": "42468e45-bb4c-47dd-bc5d-2011eb08dc7e"
      },
      "execution_count": 10,
      "outputs": [
        {
          "output_type": "display_data",
          "data": {
            "text/plain": [
              "<Figure size 432x288 with 1 Axes>"
            ],
            "image/png": "[encoded data removed]"
          },
          "metadata": {
            "needs_background": "light"
          }
        },
        {
          "output_type": "display_data",
          "data": {
            "text/plain": [
              "<Figure size 432x288 with 1 Axes>"
            ],
            "image/png": "[encoded data removed]"
          },
          "metadata": {
            "needs_background": "light"
          }
        },
        {
          "output_type": "display_data",
          "data": {
            "text/plain": [
              "<Figure size 432x288 with 1 Axes>"
            ],
            "image/png": "[encoded data removed]"
          },
          "metadata": {
            "needs_background": "light"
          }
        }
      ]
    },
    {
      "cell_type": "code",
      "source": [
        "########################## DATA SELECTION ########################\n",
        "\n",
        "# Define a selection function that checks if the probability values (of being a Kaon) higher than 90% for all 3 daughters, \n",
        "# and checks if H1 not a muon. \n",
        "\n",
        "def selection1(i):\n",
        "    return f\"(H{i}_ProbK>0.8) & (H{i}_ProbPi<0.2) & (H1_isMuon==0)\"\n",
        "\n",
        "# The selection function is called with different arguments, so we get a string that contains the set of conditions to select data.\n",
        "Cut = f\"{selection1(1)} & {selection1(2)} & {selection1(3)}\"\n",
        "\n",
        "# Create an array with selected data\n",
        "cut = f.arrays(cut = Cut, library = \"np\")\n",
        "\n",
        "# Plot histograms for new probabilities using cut array and the values of probabilities that fall within its range\n",
        "\n",
        "for i in range (3):\n",
        "  plt.hist(cut[f\"H{i+1}_ProbK\"], bins=100, range=[0.75, 1], histtype='step', label=f'H{i+1}', edgecolor=[\"purple\", \"green\", \"blue\"][i])\n",
        "\n",
        "plt.title(\"New Probability of Daughters being a Kaon\")\n",
        "plt.ylabel(\"Events\")\n",
        "plt.xlabel(\"Probability\")\n",
        "plt.grid()\n",
        "plt.legend(loc='upper left')\n",
        "plt.show()\n",
        "\n",
        "plt.figure()\n",
        "for i in range (3):\n",
        "  plt.hist(cut[f\"H{i+1}_ProbPi\"], bins=100, range=[0, 0.25], histtype='step', label=f'H{i+1}', edgecolor=[\"purple\", \"green\", \"blue\"][i])\n",
        "\n",
        "plt.title(\"New Probability of Daughters being a Pion\")\n",
        "plt.ylabel(\"Events\")\n",
        "plt.xlabel(\"Probability\")\n",
        "plt.grid()\n",
        "plt.legend(loc='upper right')\n",
        "plt.show()\n"
      ],
      "metadata": {
        "colab": {
          "base_uri": "https://localhost:8080/",
          "height": 573
        },
        "id": "YOf3dsSzr23B",
        "outputId": "4f945639-884e-402c-9e94-a34960c5499a"
      },
      "execution_count": 11,
      "outputs": [
        {
          "output_type": "display_data",
          "data": {
            "text/plain": [
              "<Figure size 432x288 with 1 Axes>"
            ],
            "image/png": "[encoded data removed]"
          },
          "metadata": {
            "needs_background": "light"
          }
        },
        {
          "output_type": "display_data",
          "data": {
            "text/plain": [
              "<Figure size 432x288 with 1 Axes>"
            ],
            "image/png": "[encoded data removed]"
          },
          "metadata": {
            "needs_background": "light"
          }
        }
      ]
    },
    {
      "cell_type": "code",
      "source": [
        "#Now as a good check, we should see the effect of applying our cuts.\n",
        "#On one histogram, plot the B meson mass, from both the tree (pre-cuts) and the CutTree (post-cuts)\n",
        "#What do you notice about your histogram now?\n",
        "\n",
        "# Define a function that cuts the data in components of momentum and sums it up for every direction\n",
        "def MotherMomentumComponentCut(cut, i):\n",
        "    return cut[f\"H1_P{i}\"] + cut[f\"H2_P{i}\"] + cut[f\"H3_P{i}\"]\n",
        "\n",
        "# Create new arrays for every component of the mother momentum using the function above and setting parameters cut (which is our selection), \n",
        "# and filling the names for the components\n",
        "NewXcomp = MotherMomentumComponentCut(cut, \"X\")\n",
        "NewYcomp = MotherMomentumComponentCut(cut, \"Y\")\n",
        "NewZcomp = MotherMomentumComponentCut(cut, \"Z\")\n",
        "\n",
        "# Calculate the new total momentum of the mother\n",
        "NewTotalMomentum = np.sqrt(NewXcomp**2 + NewYcomp**2 + NewZcomp**2)\n",
        "\n",
        "\n",
        "# Define a function that cuts the data for each daughter in every direction and calculates total momentum for every daughter\n",
        "def DaugthersMomentumCut(cut, j):\n",
        "    return np.sqrt((cut[f\"H{j}_PX\"])**2 + (cut[f\"H{j}_PY\"])**2 + (cut[f\"H{j}_PZ\"])**2)\n",
        "\n",
        "# Create new arrays for total momentum of each H with selected data\n",
        "NewTotMom1 = DaugthersMomentumCut(cut, \"1\")\n",
        "NewTotMom2 = DaugthersMomentumCut(cut, \"2\")\n",
        "NewTotMom3 = DaugthersMomentumCut(cut, \"3\")\n",
        "\n",
        "# Create new arrays for the new total energies of every daughter\n",
        "NewTotEn1 = np.sqrt(mass**2 + NewTotMom1**2)\n",
        "NewTotEn2 = np.sqrt(mass**2 + NewTotMom2**2)\n",
        "NewTotEn3 = np.sqrt(mass**2 + NewTotMom3**2)\n",
        "\n",
        "# Calculate the total energy of the mother\n",
        "NewTotalEnergy = NewTotEn1 + NewTotEn2 + NewTotEn3\n",
        "\n",
        "# Calculate the mass of the mother\n",
        "NewMass = np.sqrt(NewTotalEnergy**2 - NewTotalMomentum**2)\n",
        "\n",
        "# Plot the histograms \n",
        "\n",
        "plt.figure()\n",
        "\n",
        "plt.hist(Mass, bins=300, range=[5000, 6500], histtype = 'step', edgecolor=\"purple\")\n",
        "plt.title(\"Mass of the mother particle\")\n",
        "plt.xlabel('Mass (MeV/$c^2$)')\n",
        "plt.ylabel('Events')\n",
        "plt.grid()\n",
        "plt.show()\n",
        "\n",
        "plt.hist(NewMass, bins=300, range=[5000, 6500], histtype = 'step', edgecolor=\"blue\")\n",
        "\n",
        "plt.title(\"New Mass of the mother particle\")\n",
        "plt.xlabel('Mass (MeV/$c^2$)')\n",
        "plt.ylabel('Events')\n",
        "plt.grid()\n",
        "plt.show()\n",
        "\n",
        "# A theoretical mass of B+ meson is 5279.34±0.12 MeV/c, which falls within the range of our data"
      ],
      "metadata": {
        "colab": {
          "base_uri": "https://localhost:8080/",
          "height": 583
        },
        "id": "f71pVttm3TZ7",
        "outputId": "b8287831-f774-4449-e691-c49ef7755c27"
      },
      "execution_count": 43,
      "outputs": [
        {
          "output_type": "display_data",
          "data": {
            "text/plain": [
              "<Figure size 432x288 with 1 Axes>"
            ],
            "image/png": "[encoded data removed]"
          },
          "metadata": {
            "needs_background": "light"
          }
        },
        {
          "output_type": "display_data",
          "data": {
            "text/plain": [
              "<Figure size 432x288 with 1 Axes>"
            ],
            "image/png": "[encoded data removed]"
          },
          "metadata": {
            "needs_background": "light"
          }
        }
      ]
    },
    {
      "cell_type": "markdown",
      "metadata": {
        "id": "N1tResqvcMgQ"
      },
      "source": [
        "#How do we count the number of events?\n",
        "\n",
        "We now have a histogram of events that we have reconstructed as a B meson. But some of these events are caused by a co-incidence of events which would still occur if there were no B mesons actually produced. We call this the background. Background and signal are indistinguishable now as the detector cannot tell the difference and our cuts were unable to remove the events for physics reasons. We can do some statistical analysis, if we know the approximate shapes of our signal and our background. Just like a least-squares fitting we can run a fit routine to minimise the error between the fitted curve and our data. As an example, if we know our data has an exponential background and a gaussian signal:\n",
        "\n",
        "![Gaussian+Exp Background](https://twiki.cern.ch/twiki/pub/RooStats/RooStatsTutorialsJune2013/GausExpModelFit.png)\n",
        "\n",
        "Here the red line represents our signal, the blue dotted line is our background and the solid blue line is our combined curve. The graph also shows the number of signal events and the number of background events. The signal now is a tiny fraction of the total data shown in the plot.\n",
        "\n",
        "In order to do this, we need to build a fit model, around which the software can try to fit our data.\n",
        "\n",
        "We use RooFit for this, which includes:\n",
        "* Gaussian\n",
        "* Exponential\n",
        "* Chebychev\n",
        "* Crystal Ball\n",
        "* Breit-Wigner\n",
        "\n",
        "As well as several other choices.\n",
        "\n",
        "Typically exponential and Chebychev functions are used for background and Gaussian, Crystal Ball and Breit-Wigner are used for signal. We can also combine them (e.g. 1 crystal ball, 1 gaussian, 1 exponential) in various ways."
      ]
    },
    {
      "cell_type": "code",
      "source": [
        "import statistics\n",
        "import scipy.stats as stats\n",
        "\n",
        "mass = (\"Mass\", \"Mass\", 4700, 5900, \"MeV/C^2\")\n",
        "# a - amplitude, b - centre of the peak, c - standard deviation\n",
        "def gaussian(x, a, b, c):\n",
        "    return a * np.exp(-(x - b)**2 / (2 * c**2))\n",
        "gaussWidth = (40, (0, 7000))\n",
        "gaussMean = (4800, (4900, 5900))\n",
        "\n"
      ],
      "metadata": {
        "id": "NN_fCLwoFgSJ"
      },
      "execution_count": null,
      "outputs": []
    },
    {
      "cell_type": "code",
      "metadata": {
        "id": "R_7q_HY1qhiS"
      },
      "source": [
        "#define physical measurment that we want to fit using RooRealVar\n",
        "# var = ROOT.RooRealVar =(\"Variable from Python\", \"Nickname\",Min, Max, Units)\n",
        "#mass = ROOT.RooRealVar(\"M_m0\",\"Mass\",4700,5900,\"MeV/C^{2}\")\n",
        "\n",
        "#passing the rest of the variables into the model\n",
        "#For the RooRealVar the last three parameters are given, \"starting value\" and min/max values\n",
        "gaussMean = RealVar(4800, (4900, 5900))\n",
        "gaussWidth = (40, (0, 7000))\n",
        "gaussMean = ROOT.RooRealVar(\"Mean\",\"Mean\",4800,4900,5900)\n",
        "gaussWidth = ROOT.RooRealVar(\"Width\",\"Width\",40,0,7000)\n",
        "\n",
        "#Now we have enough to make our Model for the signal:\n",
        "\n",
        "Gauss=ROOT.RooGaussian(\"Gaussian Signal\",\"Gauss\",mass,gaussMean,gaussWidth)\n",
        "Gauss_Norm= ROOT.RooRealVar(\"Gauss_Norm\",\"Signal Yield\", tree.GetEntries()/30, 0, tree.GetEntries() * 3)\n",
        "#We also need a background, so let's use a (simple) exponential:\n",
        "\n",
        "exponent=ROOT.RooRealVar(\"exponent\", \"C\", -0.02, -2, +2)\n",
        "exp_Norm= ROOT.RooRealVar(\"exp_Norm\",\"Background Yield\", tree.GetEntries()/30, 0, tree.GetEntries() * 2)\n",
        "\n",
        "#Define the  model for the background:\n",
        "\n",
        "Bkgnd=ROOT.RooExponential(\"Exponential Background\",\"Bkgnd\",mass,exponent)\n",
        "\n",
        "#Now we need to combine these two functions into a single PDF (probability density function)\n",
        "#and we need to add the normalisation factors at the end as scaling factors\n",
        "\n",
        "model=ROOT.RooAddPdf(\"Full Model\",\"model\",ROOT.RooArgList(Gauss,Bkgnd),ROOT.RooArgList(Gauss_Norm, exp_Norm) )"
      ],
      "execution_count": null,
      "outputs": []
    },
    {
      "cell_type": "code",
      "metadata": {
        "id": "PL-qVvs-dw86"
      },
      "source": [
        "#Put our data set into a RooDataSet structure\n",
        "\n",
        "data_to_fit=ROOT.RooDataSet(\"Data Set\",\"data_to_fit\", CutTree, ROOT.RooArgSet(mass))\n",
        "\n",
        "#Then we can do the fitting:\n",
        "\n",
        "model.fitTo(data_to_fit)\n",
        "\n",
        "#if everything went well, you will see the outputs of RooFit below"
      ],
      "execution_count": null,
      "outputs": []
    },
    {
      "cell_type": "code",
      "metadata": {
        "id": "bUhgxlRGd4XO"
      },
      "source": [
        "#Now to plot it all\n",
        "c1=ROOT.TCanvas(\"c1\",\"c1\")\n",
        "frame=mass.frame()\n",
        "data_to_fit.plotOn(frame)\n",
        "model.plotOn(frame, ROOT.RooFit.Components(\"Gauss\"),ROOT.RooFit.LineColor(8),ROOT.RooFit.LineStyle(2))\n",
        "model.plotOn(frame, ROOT.RooFit.Components(\"Bkgnd\"),ROOT.RooFit.LineColor(46),ROOT.RooFit.LineStyle(2))\n",
        "model.plotOn(frame)\n",
        "frame.Draw()\n",
        "c1.Update()"
      ],
      "execution_count": null,
      "outputs": []
    },
    {
      "cell_type": "markdown",
      "metadata": {
        "id": "60b4bs1od4M_"
      },
      "source": [
        "Using this structure, you can in theory build whatever models you like!\n",
        "\n",
        "Some recommendations (but not necessary to do all):-\n",
        "\n",
        "\n",
        "\n",
        "*   Gauss+Exponential (as above)\n",
        "*   Crystal Ball + Exponential\n",
        "*   Gauss+Crystal Ball+Exponential (now you need to weigh the two signal peaks and then the total signal against total background)\n",
        "*   Gauss+Chebychev\n",
        "*   Two Crystal Balls + Exponential"
      ]
    },
    {
      "cell_type": "markdown",
      "metadata": {
        "id": "vHivSaH1dwy7"
      },
      "source": [
        "So how good was the fit, and how many events do you have?\n",
        "\n",
        "We can use the .getValV() function on our signal and background *normalisation* components, e.g. Gauss_Norm=Gauss.getValV()\n",
        "\n",
        "To find the error (on this number) we can use .getError()\n",
        "\n",
        "Neither of these measures would tell us if this was a good fit or not. Normally we use a χ2 test to do so - this is built into the image we made (so we can do frame.chiSquare() to get this data)\n",
        "\n",
        "For each model you made, print the signal and background yields (with errors) and report the χ2"
      ]
    },
    {
      "cell_type": "markdown",
      "metadata": {
        "id": "ob2HARgWoTGe"
      },
      "source": [
        "#Counting\n",
        "\n",
        "So we have now loaded our data; we have reconstructed information about the mother B meson and we have cut away any data which looks like it might not be what we are looking for. We have then plotted histograms of the mass of the B meson and used this to fit a model, a function to describe the events there. We now have to identify which of our events belong to the B<sup>+</sup> and how many of them belong to B<sup>-</sup>.\n",
        "\n",
        "To do this, should split out data into two groups (and throw away data which doesn't comply with either decay)\n",
        "\n",
        "We will be looking for the events which are\n",
        "\n",
        "\n",
        "B<sup>+</sup>->K<sup>+</sup> + K<sup>+</sup>  + K<sup>-</sup>\n",
        "\n",
        "or\n",
        "\n",
        "B<sup>-</sup>->K<sup>-</sup> + K<sup>-</sup>  + K<sup>+</sup>\n",
        "\n",
        "We can look for the number of positive and negative charges in H1, H2 and H3 (using the variable ```H1_Charge``` etc.). If we have 0 or 3 positive charges, we should throw the event away and if we have 1 it should be assigned be a B<sup>-</sup>, with 2 it should be a B<sup>+</sup>"
      ]
    },
    {
      "cell_type": "markdown",
      "metadata": {
        "id": "r8VB5uN1obc4"
      },
      "source": [
        "Once we have defined if it's a B<sup>+</sup> or a B <sup>-</sup>, we should go ahead and ensure the pre-selection is applied and then plot our B mass, and fit the model to find the yield.\n",
        "\n",
        "We can then calculate the assymetry from this equation:\n",
        "\n",
        "$A=\\frac{(N^{B-}-N^{B+})}{(N^{B-}+N^{B+})}$\n",
        "\n",
        "Where N<sup>B+/- </sup> is the number of events found from the fitted yield of the signal from each data set.\n",
        "\n",
        "The uncertainty on this result is given by:\n",
        "\n",
        "$\\sigma_A=\\sqrt\\frac{1-A^2}{N^{B-}+N^{B+}}$\n",
        "\n",
        "Calculate these two values for your data and print them below:"
      ]
    },
    {
      "cell_type": "code",
      "metadata": {
        "id": "UiPNe2iuobSK"
      },
      "source": [
        "#Here do your calculation of the final result"
      ],
      "execution_count": null,
      "outputs": []
    },
    {
      "cell_type": "markdown",
      "metadata": {
        "id": "r5B--_33okz1"
      },
      "source": [
        "#Congratulations!\n",
        "\n",
        "You just made your first LHCb physics analysis. Does this seem like a reasonable result? Did we explain why we have an excess of mass in the Universe?"
      ]
    },
    {
      "cell_type": "markdown",
      "metadata": {
        "id": "dzybWZylomGu"
      },
      "source": [
        "## **Bonus content only below here:**"
      ]
    },
    {
      "cell_type": "markdown",
      "metadata": {
        "id": "odpbRqdoou5M"
      },
      "source": [
        "To make a further anaysis, we can look into the intermediate processes.\n",
        "\n",
        "We have so far considered only that the B meson ultimately decays into three kaons. It may be that on the way, the B meson first decays into a Kaon and another particle, and then from that particle to two Kaons.\n",
        "\n",
        "We would expect this to be one of three possible modes (for B<sup>+</sup>):\n",
        "\n",
        "$R^{++} \\rightarrow K_1^+ +K_2^+$\n",
        "\n",
        "(we don't expect this to happen because of the like charges in the Kaons)\n",
        "\n",
        "$R^0 \\rightarrow K_1^+ +K_3^-$\n",
        "\n",
        "$R^0 \\rightarrow K_2^+ +K_3^-$\n",
        "\n",
        "(Expect symmetric arrangements for B<sup>-</sup>)\n",
        "\n",
        "To analyse the intermediate states we can measure the invarient masses of the intermediate states and then plot them on what is called a Dalitz plot (this is a 2D plot with two different two body decays (from the three body decay) on each axis)\n",
        "\n",
        "![Dalitz Plot](https://slideplayer.com/slide/15960097/88/images/15/Dalitz+plot%3A+%CE%9B+c+%2B+%E2%86%92%F0%9D%91%9D+%F0%9D%90%BE+%E2%88%92+%F0%9D%9C%8B+%2B.jpg)\n"
      ]
    },
    {
      "cell_type": "code",
      "metadata": {
        "id": "SqJxvZSKo1cW"
      },
      "source": [
        "#Define a function to find the invarient mass of two given Kaons"
      ],
      "execution_count": null,
      "outputs": []
    },
    {
      "cell_type": "code",
      "metadata": {
        "id": "YPVqECfPo3Wc"
      },
      "source": [
        "#Then, ensuring you're still taking the data after the selection, make a Dalitz plot. This is a 2-D scatter plot (use e.g. TH2F to make the plot where we used TH1F before)\n",
        "#Choose an appropriate binning in your scatter "
      ],
      "execution_count": null,
      "outputs": []
    },
    {
      "cell_type": "markdown",
      "metadata": {
        "id": "qPoPLt4Uo6QB"
      },
      "source": [
        "We can further improve our plot, since two sets of particles on each axis are exactly the same (one positive Kaon, one negative Kaon). So we can plot the maximum of the two values on one axis and the minimum on the other. We can use a quick numpy check and then plot those values."
      ]
    },
    {
      "cell_type": "code",
      "metadata": {
        "id": "KJ_fe2R3o8Aq"
      },
      "source": [
        "#Make the revised Dalitz plot here for B+ mesons"
      ],
      "execution_count": null,
      "outputs": []
    },
    {
      "cell_type": "code",
      "metadata": {
        "id": "t46slV8Yo-Ed"
      },
      "source": [
        "#Make the revised Dalitz plot here for B- mesons"
      ],
      "execution_count": null,
      "outputs": []
    },
    {
      "cell_type": "code",
      "metadata": {
        "id": "RfTDh69qo9_q"
      },
      "source": [
        "#Where we have a higher density of points (or a bigger value in the bin) this is indication of an intermediate resonance\n",
        "#Check out the possible resonances you have found in the PDG (http://pdg.lbl.gov/2020/tables/contents_tables.html)"
      ],
      "execution_count": null,
      "outputs": []
    }
  ]
}