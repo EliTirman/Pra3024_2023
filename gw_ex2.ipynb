{
  "nbformat": 4,
  "nbformat_minor": 0,
  "metadata": {
    "colab": {
      "provenance": [],
      "mount_file_id": "1P4p-7QCLwepnWvD0rILW6noF_slZmGiV",
      "authorship_tag": "ABX9TyMxIcwRrpOC6B8F+Zg5o7qM",
      "include_colab_link": true
    },
    "kernelspec": {
      "name": "python3",
      "display_name": "Python 3"
    },
    "language_info": {
      "name": "python"
    }
  },
  "cells": [
    {
      "cell_type": "markdown",
      "metadata": {
        "id": "view-in-github",
        "colab_type": "text"
      },
      "source": [
        "<a href=\"https://colab.research.google.com/github/EliTirman/Pra3024_2023/blob/main/gw_ex2.ipynb\" target=\"_parent\"><img src=\"https://colab.research.google.com/assets/colab-badge.svg\" alt=\"Open In Colab\"/></a>"
      ]
    },
    {
      "cell_type": "code",
      "execution_count": null,
      "metadata": {
        "colab": {
          "base_uri": "https://localhost:8080/"
        },
        "id": "3BD-ciNmolqn",
        "outputId": "931a5953-4f5d-46c4-f5d5-97b7c9534135"
      },
      "outputs": [
        {
          "output_type": "stream",
          "name": "stdout",
          "text": [
            "Looking in indexes: https://pypi.org/simple, https://us-python.pkg.dev/colab-wheels/public/simple/\n",
            "Collecting pycbc\n",
            "  Downloading PyCBC-2.2.0-cp39-cp39-manylinux_2_17_x86_64.manylinux2014_x86_64.whl (7.5 MB)\n",
            "\u001b[2K     \u001b[90m━━━━━━━━━━━━━━━━━━━━━━━━━━━━━━━━━━━━━━━━\u001b[0m \u001b[32m7.5/7.5 MB\u001b[0m \u001b[31m112.6 MB/s\u001b[0m eta \u001b[36m0:00:00\u001b[0m\n",
            "\u001b[?25hCollecting ligo-common\n",
            "  Downloading ligo_common-1.0.3-py2.py3-none-any.whl (2.0 kB)\n",
            "Requirement already satisfied: tqdm in /usr/local/lib/python3.9/dist-packages (from pycbc) (4.65.0)\n",
            "Collecting gwdatafind\n",
            "  Downloading gwdatafind-1.1.3-py3-none-any.whl (45 kB)\n",
            "\u001b[2K     \u001b[90m━━━━━━━━━━━━━━━━━━━━━━━━━━━━━━━━━━━━━━━\u001b[0m \u001b[32m45.4/45.4 KB\u001b[0m \u001b[31m161.0 MB/s\u001b[0m eta \u001b[36m0:00:00\u001b[0m\n",
            "\u001b[?25hCollecting lalsuite!=7.2\n",
            "  Downloading lalsuite-7.13-cp39-cp39-manylinux_2_28_x86_64.whl (50.3 MB)\n",
            "\u001b[2K     \u001b[90m━━━━━━━━━━━━━━━━━━━━━━━━━━━━━━━━━━━━━━━\u001b[0m \u001b[32m50.3/50.3 MB\u001b[0m \u001b[31m174.1 MB/s\u001b[0m eta \u001b[36m0:00:00\u001b[0m\n",
            "\u001b[?25hCollecting mpld3>=0.3\n",
            "  Downloading mpld3-0.5.9-py3-none-any.whl (201 kB)\n",
            "\u001b[2K     \u001b[90m━━━━━━━━━━━━━━━━━━━━━━━━━━━━━━━━━━━━━\u001b[0m \u001b[32m201.2/201.2 KB\u001b[0m \u001b[31m249.4 MB/s\u001b[0m eta \u001b[36m0:00:00\u001b[0m\n",
            "\u001b[?25hCollecting pegasus-wms.api>=5.0.3\n",
            "  Downloading pegasus-wms.api-5.0.5.tar.gz (44 kB)\n",
            "\u001b[2K     \u001b[90m━━━━━━━━━━━━━━━━━━━━━━━━━━━━━━━━━━━━━━━━\u001b[0m \u001b[32m44.4/44.4 KB\u001b[0m \u001b[31m47.9 MB/s\u001b[0m eta \u001b[36m0:00:00\u001b[0m\n",
            "\u001b[?25h  Preparing metadata (setup.py) ... \u001b[?25l\u001b[?25hdone\n",
            "Requirement already satisfied: beautifulsoup4>=4.6.0 in /usr/local/lib/python3.9/dist-packages (from pycbc) (4.6.3)\n",
            "Collecting ligo-segments\n",
            "  Downloading ligo-segments-1.4.0.tar.gz (51 kB)\n",
            "\u001b[2K     \u001b[90m━━━━━━━━━━━━━━━━━━━━━━━━━━━━━━━━━━━━━━━\u001b[0m \u001b[32m51.0/51.0 KB\u001b[0m \u001b[31m153.8 MB/s\u001b[0m eta \u001b[36m0:00:00\u001b[0m\n",
            "\u001b[?25h  Preparing metadata (setup.py) ... \u001b[?25l\u001b[?25hdone\n",
            "Collecting Mako>=1.0.1\n",
            "  Downloading Mako-1.2.4-py3-none-any.whl (78 kB)\n",
            "\u001b[2K     \u001b[90m━━━━━━━━━━━━━━━━━━━━━━━━━━━━━━━━━━━━━━━\u001b[0m \u001b[32m78.7/78.7 KB\u001b[0m \u001b[31m166.2 MB/s\u001b[0m eta \u001b[36m0:00:00\u001b[0m\n",
            "\u001b[?25hCollecting lscsoft-glue>=1.59.3\n",
            "  Downloading lscsoft-glue-3.0.1.tar.gz (1.4 MB)\n",
            "\u001b[2K     \u001b[90m━━━━━━━━━━━━━━━━━━━━━━━━━━━━━━━━━━━━━━━━\u001b[0m \u001b[32m1.4/1.4 MB\u001b[0m \u001b[31m289.7 MB/s\u001b[0m eta \u001b[36m0:00:00\u001b[0m\n",
            "\u001b[?25h  Installing build dependencies ... \u001b[?25l\u001b[?25hdone\n",
            "  Getting requirements to build wheel ... \u001b[?25l\u001b[?25hdone\n",
            "  Preparing metadata (pyproject.toml) ... \u001b[?25l\u001b[?25hdone\n",
            "Collecting python-ligo-lw>=1.7.0\n",
            "  Downloading python-ligo-lw-1.8.3.tar.gz (2.3 MB)\n",
            "\u001b[2K     \u001b[90m━━━━━━━━━━━━━━━━━━━━━━━━━━━━━━━━━━━━━━━━\u001b[0m \u001b[32m2.3/2.3 MB\u001b[0m \u001b[31m253.1 MB/s\u001b[0m eta \u001b[36m0:00:00\u001b[0m\n",
            "\u001b[?25h  Preparing metadata (setup.py) ... \u001b[?25l\u001b[?25hdone\n",
            "Requirement already satisfied: setuptools in /usr/local/lib/python3.9/dist-packages (from pycbc) (57.4.0)\n",
            "Requirement already satisfied: cython>=0.29 in /usr/local/lib/python3.9/dist-packages (from pycbc) (0.29.33)\n",
            "Requirement already satisfied: matplotlib>=1.5.1 in /usr/local/lib/python3.9/dist-packages (from pycbc) (3.5.3)\n",
            "Requirement already satisfied: h5py!=3.7.0,>=3.0.0 in /usr/local/lib/python3.9/dist-packages (from pycbc) (3.1.0)\n",
            "Requirement already satisfied: numpy!=1.19.0,>=1.16.0 in /usr/local/lib/python3.9/dist-packages (from pycbc) (1.22.4)\n",
            "Requirement already satisfied: scipy>=0.16.0 in /usr/local/lib/python3.9/dist-packages (from pycbc) (1.10.1)\n",
            "Requirement already satisfied: astropy!=4.0.5,!=4.2.1,>=2.0.3 in /usr/local/lib/python3.9/dist-packages (from pycbc) (4.3.1)\n",
            "Requirement already satisfied: jinja2 in /usr/local/lib/python3.9/dist-packages (from pycbc) (3.1.2)\n",
            "Requirement already satisfied: pillow in /usr/local/lib/python3.9/dist-packages (from pycbc) (8.4.0)\n",
            "Requirement already satisfied: pyerfa>=1.7.3 in /usr/local/lib/python3.9/dist-packages (from astropy!=4.0.5,!=4.2.1,>=2.0.3->pycbc) (2.0.0.1)\n",
            "Requirement already satisfied: python-dateutil in /usr/local/lib/python3.9/dist-packages (from lalsuite!=7.2->pycbc) (2.8.2)\n",
            "Collecting pyOpenSSL\n",
            "  Downloading pyOpenSSL-23.0.0-py3-none-any.whl (57 kB)\n",
            "\u001b[2K     \u001b[90m━━━━━━━━━━━━━━━━━━━━━━━━━━━━━━━━━━━━━━━\u001b[0m \u001b[32m57.3/57.3 KB\u001b[0m \u001b[31m158.8 MB/s\u001b[0m eta \u001b[36m0:00:00\u001b[0m\n",
            "\u001b[?25hCollecting pyRXP\n",
            "  Downloading pyRXP-3.0.1-cp39-cp39-manylinux_2_12_x86_64.manylinux2010_x86_64.whl (297 kB)\n",
            "\u001b[2K     \u001b[90m━━━━━━━━━━━━━━━━━━━━━━━━━━━━━━━━━━━━━\u001b[0m \u001b[32m297.9/297.9 KB\u001b[0m \u001b[31m245.6 MB/s\u001b[0m eta \u001b[36m0:00:00\u001b[0m\n",
            "\u001b[?25hRequirement already satisfied: six in /usr/local/lib/python3.9/dist-packages (from lscsoft-glue>=1.59.3->pycbc) (1.15.0)\n",
            "Requirement already satisfied: MarkupSafe>=0.9.2 in /usr/local/lib/python3.9/dist-packages (from Mako>=1.0.1->pycbc) (2.1.2)\n",
            "Requirement already satisfied: pyparsing>=2.2.1 in /usr/local/lib/python3.9/dist-packages (from matplotlib>=1.5.1->pycbc) (3.0.9)\n",
            "Requirement already satisfied: kiwisolver>=1.0.1 in /usr/local/lib/python3.9/dist-packages (from matplotlib>=1.5.1->pycbc) (1.4.4)\n",
            "Requirement already satisfied: fonttools>=4.22.0 in /usr/local/lib/python3.9/dist-packages (from matplotlib>=1.5.1->pycbc) (4.39.0)\n",
            "Requirement already satisfied: cycler>=0.10 in /usr/local/lib/python3.9/dist-packages (from matplotlib>=1.5.1->pycbc) (0.11.0)\n",
            "Requirement already satisfied: packaging>=20.0 in /usr/local/lib/python3.9/dist-packages (from matplotlib>=1.5.1->pycbc) (23.0)\n",
            "Collecting pegasus-wms.common\n",
            "  Downloading pegasus-wms.common-5.0.5.tar.gz (41 kB)\n",
            "\u001b[2K     \u001b[90m━━━━━━━━━━━━━━━━━━━━━━━━━━━━━━━━━━━━━━━\u001b[0m \u001b[32m41.2/41.2 KB\u001b[0m \u001b[31m126.6 MB/s\u001b[0m eta \u001b[36m0:00:00\u001b[0m\n",
            "\u001b[?25h  Preparing metadata (setup.py) ... \u001b[?25l\u001b[?25hdone\n",
            "Requirement already satisfied: pyyaml in /usr/local/lib/python3.9/dist-packages (from python-ligo-lw>=1.7.0->pycbc) (6.0)\n",
            "Collecting igwn-auth-utils>=0.3.1\n",
            "  Downloading igwn_auth_utils-0.4.0-py3-none-any.whl (22 kB)\n",
            "Requirement already satisfied: requests>=2.14 in /usr/local/lib/python3.9/dist-packages (from igwn-auth-utils>=0.3.1->gwdatafind->pycbc) (2.25.1)\n",
            "Collecting safe-netrc>=1.0.0\n",
            "  Downloading safe_netrc-1.0.1-py3-none-any.whl (10 kB)\n",
            "Collecting scitokens>=1.7.0\n",
            "  Downloading scitokens-1.7.4-py3-none-any.whl (27 kB)\n",
            "Collecting cryptography>=2.3\n",
            "  Downloading cryptography-39.0.2-cp36-abi3-manylinux_2_28_x86_64.whl (4.2 MB)\n",
            "\u001b[2K     \u001b[90m━━━━━━━━━━━━━━━━━━━━━━━━━━━━━━━━━━━━━━━━\u001b[0m \u001b[32m4.2/4.2 MB\u001b[0m \u001b[31m249.5 MB/s\u001b[0m eta \u001b[36m0:00:00\u001b[0m\n",
            "\u001b[?25hRequirement already satisfied: cffi>=1.12 in /usr/local/lib/python3.9/dist-packages (from cryptography>=2.3->igwn-auth-utils>=0.3.1->gwdatafind->pycbc) (1.15.1)\n",
            "Requirement already satisfied: urllib3<1.27,>=1.21.1 in /usr/local/lib/python3.9/dist-packages (from requests>=2.14->igwn-auth-utils>=0.3.1->gwdatafind->pycbc) (1.26.14)\n",
            "Requirement already satisfied: idna<3,>=2.5 in /usr/local/lib/python3.9/dist-packages (from requests>=2.14->igwn-auth-utils>=0.3.1->gwdatafind->pycbc) (2.10)\n",
            "Requirement already satisfied: certifi>=2017.4.17 in /usr/local/lib/python3.9/dist-packages (from requests>=2.14->igwn-auth-utils>=0.3.1->gwdatafind->pycbc) (2022.12.7)\n",
            "Requirement already satisfied: chardet<5,>=3.0.2 in /usr/local/lib/python3.9/dist-packages (from requests>=2.14->igwn-auth-utils>=0.3.1->gwdatafind->pycbc) (4.0.0)\n",
            "Collecting PyJWT>=1.6.1\n",
            "  Downloading PyJWT-2.6.0-py3-none-any.whl (20 kB)\n",
            "Requirement already satisfied: pycparser in /usr/local/lib/python3.9/dist-packages (from cffi>=1.12->cryptography>=2.3->igwn-auth-utils>=0.3.1->gwdatafind->pycbc) (2.21)\n",
            "Building wheels for collected packages: lscsoft-glue, pegasus-wms.api, python-ligo-lw, ligo-segments, pegasus-wms.common\n",
            "  Building wheel for lscsoft-glue (pyproject.toml) ... \u001b[?25l\u001b[?25hdone\n",
            "  Created wheel for lscsoft-glue: filename=lscsoft_glue-3.0.1-cp39-cp39-linux_x86_64.whl size=262709 sha256=cc813b93e90e3ae2fa60becc84d82122ae1363ea9def78ba3fb887a1903051e6\n",
            "  Stored in directory: /tmp/pip-ephem-wheel-cache-_gt0v1r4/wheels/49/14/fb/7969947b8a18347925a86d2f70e7f600512ed7857bc5cfe9b0\n",
            "  Building wheel for pegasus-wms.api (setup.py) ... \u001b[?25l\u001b[?25hdone\n",
            "  Created wheel for pegasus-wms.api: filename=pegasus_wms.api-5.0.5-py3-none-any.whl size=50029 sha256=cba942599c91ad017629ac8dc71b4bc5fb7e51920a6f21ebbc3ef376e136cdba\n",
            "  Stored in directory: /tmp/pip-ephem-wheel-cache-_gt0v1r4/wheels/60/06/98/0b96d42a23c8fbc8234ecc698deaea58fa75f2abfa661020bd\n",
            "  Building wheel for python-ligo-lw (setup.py) ... \u001b[?25l\u001b[?25hdone\n",
            "  Created wheel for python-ligo-lw: filename=python_ligo_lw-1.8.3-cp39-cp39-linux_x86_64.whl size=165760 sha256=8ee761a725e72c885d4cfe311ba98c61bebd706aa856c9983640ba54674bdc04\n",
            "  Stored in directory: /tmp/pip-ephem-wheel-cache-_gt0v1r4/wheels/24/4a/01/2b07c68ddef2b4de5051b79a49fb1f9a80a93b075cbf6f3269\n",
            "  Building wheel for ligo-segments (setup.py) ... \u001b[?25l\u001b[?25hdone\n",
            "  Created wheel for ligo-segments: filename=ligo_segments-1.4.0-cp39-cp39-linux_x86_64.whl size=100836 sha256=8af414ebd8052f03f71b487daeaa1eedfb4104edb58161b20e91bfac09c476a5\n",
            "  Stored in directory: /tmp/pip-ephem-wheel-cache-_gt0v1r4/wheels/bf/48/4b/3b25ac327f65168ccf3ca1f7321bb533db6de5123847f9c6f7\n",
            "  Building wheel for pegasus-wms.common (setup.py) ... \u001b[?25l\u001b[?25hdone\n",
            "  Created wheel for pegasus-wms.common: filename=pegasus_wms.common-5.0.5-py3-none-any.whl size=46251 sha256=699814afa82dfc5b5c3d7264617fe15f06a8804c5e68d3119129f71931b9566b\n",
            "  Stored in directory: /tmp/pip-ephem-wheel-cache-_gt0v1r4/wheels/d1/b7/c9/73d74603a7dedef62914fee6510561dc5db6b7622e501ed625\n",
            "Successfully built lscsoft-glue pegasus-wms.api python-ligo-lw ligo-segments pegasus-wms.common\n",
            "Installing collected packages: ligo-common, safe-netrc, pyRXP, PyJWT, pegasus-wms.common, Mako, ligo-segments, pegasus-wms.api, cryptography, scitokens, pyOpenSSL, mpld3, lscsoft-glue, igwn-auth-utils, python-ligo-lw, lalsuite, gwdatafind, pycbc\n",
            "Successfully installed Mako-1.2.4 PyJWT-2.6.0 cryptography-39.0.2 gwdatafind-1.1.3 igwn-auth-utils-0.4.0 lalsuite-7.13 ligo-common-1.0.3 ligo-segments-1.4.0 lscsoft-glue-3.0.1 mpld3-0.5.9 pegasus-wms.api-5.0.5 pegasus-wms.common-5.0.5 pyOpenSSL-23.0.0 pyRXP-3.0.1 pycbc-2.2.0 python-ligo-lw-1.8.3 safe-netrc-1.0.1 scitokens-1.7.4\n"
          ]
        }
      ],
      "source": [
        "import sys\n",
        "!{sys.executable} -m pip install pycbc ligo-common --no-cache-dir "
      ]
    },
    {
      "cell_type": "code",
      "source": [
        "from google.colab import drive\n",
        "drive.mount('/content/drive')"
      ],
      "metadata": {
        "colab": {
          "base_uri": "https://localhost:8080/"
        },
        "id": "KL0Gzo58pbs9",
        "outputId": "6432ef9e-d349-4189-ff8e-3c72a6018210"
      },
      "execution_count": null,
      "outputs": [
        {
          "output_type": "stream",
          "name": "stdout",
          "text": [
            "Drive already mounted at /content/drive; to attempt to forcibly remount, call drive.mount(\"/content/drive\", force_remount=True).\n"
          ]
        }
      ]
    },
    {
      "cell_type": "code",
      "source": [
        "from pycbc.frame import read_frame\n",
        "from pycbc.filter import highpass_fir, lowpass_fir\n",
        "from pycbc.waveform import get_fd_waveform\n",
        "from pycbc.waveform import td_approximants, fd_approximants\n",
        "from pycbc.psd import welch\n",
        "from pycbc.catalog import Merger\n",
        "import pylab\n",
        "from pycbc.types import  FrequencySeries, TimeSeries\n",
        "from scipy import interpolate\n",
        "import numpy as np\n",
        "from pycbc import frame\n",
        "import pycbc\n",
        "from pycbc.filter import resample_to_delta_t, highpass\n",
        "import matplotlib.mlab as mlab\n",
        "import matplotlib.pyplot as plt\n",
        "from scipy.stats import norm \n",
        "from pycbc.detector import Detector\n",
        "from scipy.interpolate import interp1d\n",
        "from pycbc.filter import highpass, match\n",
        "from pycbc import types \n",
        "from pycbc.filter import matched_filter\n",
        "from pycbc.conversions import mass1_from_mchirp_q\n",
        "from pycbc.waveform import get_td_waveform\n",
        "import pycbc.psd\n",
        "import pycbc.psd\n",
        "from pycbc.psd import interpolate, aLIGOZeroDetHighPower\n",
        "\n"
      ],
      "metadata": {
        "id": "cXQTj_mrpgNw"
      },
      "execution_count": null,
      "outputs": []
    },
    {
      "cell_type": "markdown",
      "source": [
        "Load the data of the LIGO Hanford detector from [2]. Plot the noise power spectral\n",
        "density (PSD) of that data. Test whether there is any gravitational wave signal present\n",
        "in the data or not? For this test, you can assume the GW signals can produce only\n",
        "from equal mass binary systems with a range between 5 to 10. We assume a threshold\n",
        "on matched filter SNR of 8 to claim detection of GW."
      ],
      "metadata": {
        "id": "kJ8XrR-osF7T"
      }
    },
    {
      "cell_type": "code",
      "source": [
        "# Loading the data\n",
        "d = np.load('/content/drive/MyDrive/Colab Notebooks/noise_ts_4096Hz.npy') \n",
        "time = d[:, 0] \n",
        "strain = d[:, 1] "
      ],
      "metadata": {
        "id": "4DOQhY0vqihW"
      },
      "execution_count": null,
      "outputs": []
    },
    {
      "cell_type": "code",
      "source": [
        "import pycbc.types  \n",
        "dt = time[1] - time[0] \n",
        "data = pycbc.types.TimeSeries(d[:, 1], delta_t = dt) "
      ],
      "metadata": {
        "id": "3cr20US1q7JP"
      },
      "execution_count": null,
      "outputs": []
    },
    {
      "cell_type": "code",
      "source": [
        "# creating arrays of data\n",
        "strain, stilde = {}, {}\n",
        "# downsample and apply highpass filter\n",
        "strain = resample_to_delta_t(highpass(data, 15.0), 1.0/2048)\n",
        "# crop\n",
        "strain = strain.crop(4, 4)\n",
        "# create the frequancy domain\n",
        "stilde = strain.to_frequencyseries()"
      ],
      "metadata": {
        "id": "h9N6PHRuq5iZ"
      },
      "execution_count": null,
      "outputs": []
    },
    {
      "cell_type": "code",
      "source": [
        "pylab.plot(strain.sample_times, strain, label= 'data')\n",
        "pylab.legend()\n",
        "pylab.xlabel('Time (s)')\n",
        "pylab.ylabel('strain')\n",
        "pylab.show()"
      ],
      "metadata": {
        "colab": {
          "base_uri": "https://localhost:8080/",
          "height": 326
        },
        "id": "_FFfg7ZmtFTl",
        "outputId": "566b4e91-6278-4e60-8534-17e90df4f77d"
      },
      "execution_count": null,
      "outputs": [
        {
          "output_type": "stream",
          "name": "stderr",
          "text": [
            "/usr/local/lib/python3.9/dist-packages/IPython/core/pylabtools.py:128: UserWarning: Creating legend with loc=\"best\" can be slow with large amounts of data.\n",
            "  fig.canvas.print_figure(bytes_io, **kw)\n"
          ]
        },
        {
          "output_type": "display_data",
          "data": {
            "text/plain": [
              "<Figure size 432x288 with 1 Axes>"
            ],
            "image/png": "[encoded data removed]"
          },
          "metadata": {
            "needs_background": "light"
          }
        }
      ]
    },
    {
      "cell_type": "code",
      "source": [
        "# calculate and plot the powes spectral density function\n",
        "psds = {}\n",
        "delta_t = strain.delta_t\n",
        "seg_len = int(2 / delta_t)\n",
        "seg_stride = int(seg_len / 2)\n",
        "psds = pycbc.psd.welch(strain, seg_len=seg_len, seg_stride=seg_stride)\n",
        "psds = interpolate(psds, stilde.delta_f)\n",
        "pylab.loglog(psds.sample_frequencies, psds)\n",
        "pylab.xlim(20, 1024)\n",
        "pylab.ylim(1e-47, 1e-42)"
      ],
      "metadata": {
        "colab": {
          "base_uri": "https://localhost:8080/",
          "height": 293
        },
        "id": "w-fGp6kMuAdD",
        "outputId": "6a23a2c6-359e-4e47-95e7-0b81080f5dc6"
      },
      "execution_count": null,
      "outputs": [
        {
          "output_type": "execute_result",
          "data": {
            "text/plain": [
              "(1e-47, 1e-42)"
            ]
          },
          "metadata": {},
          "execution_count": 15
        },
        {
          "output_type": "display_data",
          "data": {
            "text/plain": [
              "<Figure size 432x288 with 1 Axes>"
            ],
            "image/png": "[encoded data removed]"
          },
          "metadata": {
            "needs_background": "light"
          }
        }
      ]
    },
    {
      "cell_type": "code",
      "source": [
        "mass1 = np.arange(5, 10, 0.5 ) #mass range bewteen 30 to 40 Solar mass\n",
        "mass2 = mass1\n",
        "\n",
        "# Variables to store when we've found the max\n",
        "hmax, smax, tmax, mmax, nsnr = None, {}, {}, 0, 0\n",
        "snrs = {}\n",
        "Snr_list = []\n",
        "for i in range(len(mass1)):\n",
        "    #Generate a waveform with a given component mass; assumed equal mass, nonspinning\n",
        "\n",
        "    m = mass1[i] # Solar masses\n",
        "    hp, hc = get_td_waveform(approximant=\"TaylorT2\",\n",
        "                     mass1=m,\n",
        "                     mass2=m,\n",
        "                     delta_t=strain.delta_t,\n",
        "                     f_lower=15.0)\n",
        "\n",
        "    # We will resize the vector to match our data\n",
        "    hp.resize(len(strain))\n",
        "    template = hp.cyclic_time_shift(hp.start_time)\n",
        "    \n",
        "    snr = matched_filter(template, strain,\n",
        "                     psd=psds, low_frequency_cutoff=15.0)\n",
        "\n",
        "    # Remove time corrupted by the template filter and the psd filter\n",
        "    # We remove 4 seconds at the beginning and end for the PSD filtering\n",
        "    # And we remove 4 additional seconds at the beginning to account for\n",
        "    # the template length (this is somewhat generous for \n",
        "    # so short a template). A longer signal such as from a BNS, would \n",
        "    # require much more padding at the beginning of the vector.\n",
        "    snr = snr.crop(4 + 4, 4)\n",
        "\n",
        "\n",
        "    Snr_list.append(max(abs(snr)))\n",
        "snrs = Snr_list\n"
      ],
      "metadata": {
        "id": "P_bHdARfvMCS"
      },
      "execution_count": null,
      "outputs": []
    },
    {
      "cell_type": "code",
      "source": [
        "# plot the signal to noise ratio\n",
        "pylab.figure()\n",
        "pylab.plot(mass1, snrs)\n",
        "pylab.ylabel('Signal-to-noise')\n",
        "pylab.xlabel('mass')\n",
        "pylab.show()"
      ],
      "metadata": {
        "colab": {
          "base_uri": "https://localhost:8080/",
          "height": 279
        },
        "id": "q_pwxDFVv4mO",
        "outputId": "c7c6dd75-f4b6-4de4-b784-10ca50ade4e5"
      },
      "execution_count": null,
      "outputs": [
        {
          "output_type": "display_data",
          "data": {
            "text/plain": [
              "<Figure size 432x288 with 1 Axes>"
            ],
            "image/png": "[encoded data removed]"
          },
          "metadata": {
            "needs_background": "light"
          }
        }
      ]
    },
    {
      "cell_type": "code",
      "source": [
        "white_data = (strain.to_frequencyseries() / psds**0.5).to_timeseries()\n",
        "white_data=white_data.crop(4,4)\n",
        "\n",
        "limits=(-300,300)\n",
        "#Fitting the data to a normal distribution\n",
        "mean,sd=norm.fit(white_data)\n",
        "#creating the gaussian\n",
        "x=np.linspace(*limits,300)\n",
        "gauss=norm.pdf(x,mean,sd)\n",
        "#plotting\n",
        "pylab.plot(x,gauss,'k',label='Gaussian Fit');\n",
        "y=pylab.hist(white_data,bins=300,density=True,label='Data')\n",
        "pylab.xlim(*limits);\n",
        "pylab.legend();\n",
        "pylab.title(\"μ-,σ=\".format(mean,sd));\n",
        "pylab.xlabel(\"white background\");\n",
        "pylab.ylabel(\"probability\");"
      ],
      "metadata": {
        "colab": {
          "base_uri": "https://localhost:8080/",
          "height": 295
        },
        "id": "6RtHzxNo0PyR",
        "outputId": "9a9b5b08-1817-4514-b618-0f2c37b8b994"
      },
      "execution_count": null,
      "outputs": [
        {
          "output_type": "display_data",
          "data": {
            "text/plain": [
              "<Figure size 432x288 with 1 Axes>"
            ],
            "image/png": "[encoded data removed]"
          },
          "metadata": {
            "needs_background": "light"
          }
        }
      ]
    },
    {
      "cell_type": "markdown",
      "source": [
        "The horizon distance of a GW detector is defined as a distance to the source for which\n",
        "the accumulated signal power (optimal SNR) is equal to a detection threshold of SNR\n",
        "(ρmin = 8) when the source is located overhead (θ = 0,π). Plot the horizon distance\n",
        "for Advanced LIGO detector (assuming ’H1’ noise PSD) assuming a set of equal mass\n",
        "binary with a range of component masses between 5 to 500. In this plot, you can\n",
        "assume that X-axis and Y-axis represent the total mass of the binary and horizon\n",
        "distance, respectively. For this analysis, first, generate the GW waves polarization in\n",
        "frequency domain, h+(f),h×(f) and construct the projection detector frame, h(f) =\n",
        "F+h+(f) + F×h×(f), where F+ and F×are the antenna pattern functions for the two\n",
        "polarizations. Using the sky location (θ,φ) and polarization angle of the incoming GW,\n",
        "one can show that for ‘L’ shaped detector F+,F×can be written as\n"
      ],
      "metadata": {
        "id": "8zx8KnvIA2X0"
      }
    },
    {
      "cell_type": "code",
      "source": [
        "from pycbc.filter import sigmasq \n",
        "SNR = (pycbc.filter.sigmasq(hp, psd))**0.5 \n"
      ],
      "metadata": {
        "id": "IZVe0DAnAMCT"
      },
      "execution_count": null,
      "outputs": []
    }
  ]
}